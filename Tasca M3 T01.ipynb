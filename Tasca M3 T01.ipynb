{
 "cells": [
  {
   "cell_type": "markdown",
   "id": "53e9809a",
   "metadata": {},
   "source": [
    "### EX 1"
   ]
  },
  {
   "cell_type": "code",
   "execution_count": 1,
   "id": "2acab005",
   "metadata": {},
   "outputs": [
    {
     "name": "stdout",
     "output_type": "stream",
     "text": [
      "[[ 0.56562302 -2.38245991  1.5960568 ]\n",
      " [ 0.80240386  0.78505931  0.88305836]\n",
      " [-0.02090866 -0.20880728 -0.52673325]\n",
      " [ 0.08712375 -0.49987762 -1.02156087]]\n",
      "\n",
      " True\n",
      "\n",
      " array té  2  dimensió \n",
      "\n",
      " la mitja aritmética dels valors de l'array és  0.004914793669610599\n",
      "\n",
      " el coeficient de correlació de l'array és \n",
      "\n",
      " [[ 1.          0.8089587  -0.38897694 -0.2164542 ]\n",
      " [ 0.8089587   1.         -0.85623588 -0.74903133]\n",
      " [-0.38897694 -0.85623588  1.          0.98360296]\n",
      " [-0.2164542  -0.74903133  0.98360296  1.        ]]\n",
      "\n",
      " mitja aritmètica de cada fila de l'array és \n",
      " [-0.07359336  0.82350718 -0.25214973 -0.47810491]\n",
      "\n",
      " mitja aritmètica de cada columna de l'array és \n",
      " [ 0.35856049 -0.57652137  0.23270526]\n",
      "\n",
      " mitja (la mediana en catellà)de l'array és \n",
      " 0.03310754272272254\n",
      "\n",
      " desviació típica de l'array és \n",
      " 1.0085325384365054\n",
      "\n",
      " la variança de l'array és \n",
      " 1.017137881085181\n"
     ]
    }
   ],
   "source": [
    "import random\n",
    "import numpy as np\n",
    "#import pandas as pd\n",
    "\n",
    "\n",
    "def resum_estadistico (*args):                                           # funció resum estadistic (args (nom per convenció))\n",
    "    \n",
    "     a=el_array.mean()\n",
    "        \n",
    "     print (\"\\n la mitja aritmética dels valors de l'array és \", a)        # mean és la mitjana aritmética \n",
    "    \n",
    "     b= np.corrcoef(el_array)\n",
    "        \n",
    "     print (\"\\n el coeficient de correlació de l'array és \\n\\n\"    , b)    # corrcoef és coeficient de correlació \n",
    "    \n",
    "     c= el_array.mean(axis=1)\n",
    "        \n",
    "     print (\"\\n mitja aritmètica de cada fila de l'array és \\n\",c)         # mean(axis=1) és la mitjana aritmética de cada fila\n",
    "    \n",
    "     d= el_array.mean(axis=0)\n",
    "        \n",
    "     print (\"\\n mitja aritmètica de cada columna de l'array és \\n\",d)      # mean(axis=0)és la mitjana aritmética d cada columna\n",
    "    \n",
    "     e= np.median(el_array)\n",
    "        \n",
    "     print (\"\\n mitja (la mediana en catellà)de l'array és \\n\",e)          # mitja és(la mediana en catellà) de l'array \n",
    "    \n",
    "     f= np.std(el_array)\n",
    "        \n",
    "     print (\"\\n desviació típica de l'array és \\n\",f)                      # és la desviació típica de l'array \n",
    "    \n",
    "     g= np.var(el_array)\n",
    "        \n",
    "     print (\"\\n la variança de l'array és \\n\",g)                           # és la variança de l array\n",
    "        \n",
    " \n",
    "el_array = np. random.randn(4,3)                                           # creo array random 4 files 3 columnes\n",
    "                                  \n",
    "print (el_array)\n",
    "\n",
    "if (isinstance(el_array, np.ndarray))!=1 in el_array:                      # condicional if  per saber \n",
    "    print( \" false, no es una array d'una dimensio\")                       # si el array té una dimensió\n",
    "else:\n",
    "    print (\"\\n\", (isinstance(el_array, np.ndarray)))\n",
    "    \n",
    "print (\"\\n array té \" ,el_array.ndim, \" dimensió \")\n",
    "\n",
    "\n",
    "resum_estadistico ()                                                       # crida a la funció "
   ]
  },
  {
   "cell_type": "markdown",
   "id": "071ab9dc",
   "metadata": {},
   "source": [
    "### EX 2"
   ]
  },
  {
   "cell_type": "code",
   "execution_count": 1,
   "id": "e4d7c82c",
   "metadata": {},
   "outputs": [
    {
     "name": "stdout",
     "output_type": "stream",
     "text": [
      "digues de quina mida vols el quadrat  4\n",
      "[[92 10  6 79]\n",
      " [33 63 45 92]\n",
      " [92 88 31 31]\n",
      " [51 22 44 50]]\n"
     ]
    }
   ],
   "source": [
    "import numpy as np\n",
    "n = int( input(\"digues de quina mida vols el quadrat  \" ))           #La N es tria\n",
    "def generar_quadrat(a,b):                                            #funcio generar matriu NXN\n",
    "    q=np.random.randint(1,100,(n,n))                                 #random del 0 al 100 en una matriu de NXN\n",
    "    print(q)\n",
    "generar_quadrat(n,n)"
   ]
  },
  {
   "cell_type": "markdown",
   "id": "f0b7cac7",
   "metadata": {},
   "source": [
    "### EX 3 a)"
   ]
  },
  {
   "cell_type": "code",
   "execution_count": 1,
   "id": "7f269e89",
   "metadata": {},
   "outputs": [
    {
     "name": "stdout",
     "output_type": "stream",
     "text": [
      "digues de quina mida vols, files   4\n",
      "digues de quina mida vols, columnes  5\n",
      "[[2 2 2 2 2]\n",
      " [1 1 1 1 2]\n",
      " [2 1 2 2 1]\n",
      " [1 2 2 1 1]]\n",
      "El resultat d`anar sumant per files es  [10]\n",
      "El resultat d`anar sumant per files es  [10, 6]\n",
      "El resultat d`anar sumant per files es  [10, 6, 8]\n",
      "El resultat d`anar sumant per files es  [10, 6, 8, 7]\n"
     ]
    }
   ],
   "source": [
    "import numpy as np      #ok files\n",
    "\n",
    "def sumar_files_matriu():        # funcio\n",
    "\n",
    "    fila = int( input(\"digues de quina mida vols, files   \" ))\n",
    "    columna = int( input(\"digues de quina mida vols, columnes  \" ))\n",
    "\n",
    "    m =  np.random.randint(0,100,(fila,columna))     #crea la matriu de valors entre 0 a 100 de la mida fila X columna\n",
    "    print(m)\n",
    "\n",
    "    suma_files =[]                                   #array per guardar les sumes de les files\n",
    "    for i in (m):                                    # amb el for recorro la matriu m\n",
    "        suma_files.append(sum(i))                    # append(sum (i)) suma  els valors de on va apuntant i, i append els posa a\n",
    "        print (\"El resultat d`anar sumant per files es \",suma_files)         #suma_files\n",
    "        \n",
    "sumar_files_matriu()      #crida a la funció"
   ]
  },
  {
   "cell_type": "markdown",
   "id": "d7e4f72c",
   "metadata": {},
   "source": [
    "### EX 3 b)"
   ]
  },
  {
   "cell_type": "code",
   "execution_count": 2,
   "id": "d0f4c971",
   "metadata": {},
   "outputs": [
    {
     "name": "stdout",
     "output_type": "stream",
     "text": [
      "digues de quina mida vols, files   5\n",
      "digues de quina mida vols, columnes  6\n",
      "[[2 1 1 2 2 1]\n",
      " [2 1 2 1 1 1]\n",
      " [1 2 1 2 2 1]\n",
      " [1 2 1 2 1 1]\n",
      " [1 1 1 1 1 1]]\n",
      "El resultat d`anar sumant per columnes es  [7]\n",
      "El resultat d`anar sumant per columnes es  [7, 7]\n",
      "El resultat d`anar sumant per columnes es  [7, 7, 6]\n",
      "El resultat d`anar sumant per columnes es  [7, 7, 6, 8]\n",
      "El resultat d`anar sumant per columnes es  [7, 7, 6, 8, 7]\n",
      "El resultat d`anar sumant per columnes es  [7, 7, 6, 8, 7, 5]\n"
     ]
    }
   ],
   "source": [
    "import numpy as np      #ok columnes\n",
    "\n",
    "def sumar_columnes_matriu():                           #funció\n",
    "\n",
    "    fila = int( input(\"digues de quina mida vols, files   \" ))\n",
    "    columna = int( input(\"digues de quina mida vols, columnes  \" ))\n",
    "\n",
    "    m =  np.random.randint(1,3,(fila,columna))              #crea la matriu de valors entre 1 a 3 de la mida fila X columna\n",
    "    print(m)\n",
    "    minversa = np.transpose(m)                              # giro la matriu per fer de les columnes files \n",
    "    minversa.T                                              # i la guado a la var minversa\n",
    "    suma_columnes = []                                      # array per guardar les sumes de les columnes\n",
    "                                                            #amb el for recorro la matriu minversa\n",
    "    for i in (minversa):                                    #  append(sum (i)) suma  els valors de on va apuntant i,                      \n",
    "        suma_columnes.append(sum(i))                        #  append els posa a suma_columnes\n",
    "        print (\"El resultat d`anar sumant per columnes es \",suma_columnes)\n",
    "        \n",
    "sumar_columnes_matriu()                                 #crida funció"
   ]
  },
  {
   "cell_type": "markdown",
   "id": "aadca2b8",
   "metadata": {},
   "source": [
    "### EX 4"
   ]
  },
  {
   "cell_type": "code",
   "execution_count": 3,
   "id": "8a569ff4",
   "metadata": {},
   "outputs": [
    {
     "name": "stdout",
     "output_type": "stream",
     "text": [
      "[[ 1.38716983  0.60210443 -0.13665125 -1.12144097]\n",
      " [ 0.89336667  0.96149085 -0.90335848 -0.36164229]\n",
      " [ 1.36780787  0.91422197 -0.30183711  0.99483023]\n",
      " [ 2.22863354  3.38848338  0.14285726  1.0204506 ]\n",
      " [ 1.57541633  0.48472375 -0.19200414 -0.09902126]] \n",
      "\n",
      "[[1.         0.75248542 0.35699046 0.60063744 0.87898697]\n",
      " [0.75248542 1.         0.7810812  0.95159551 0.80546216]\n",
      " [0.35699046 0.7810812  1.         0.67417525 0.70296954]\n",
      " [0.60063744 0.95159551 0.67417525 1.         0.58686935]\n",
      " [0.87898697 0.80546216 0.70296954 0.58686935 1.        ]]\n"
     ]
    },
    {
     "data": {
      "text/plain": [
       "array([[1.        , 0.20668532],\n",
       "       [0.20668532, 1.        ]])"
      ]
     },
     "execution_count": 3,
     "metadata": {},
     "output_type": "execute_result"
    }
   ],
   "source": [
    "import numpy as np\n",
    "import random\n",
    "\n",
    "def c_correlacio (): \n",
    "    arr2 = np.random.randn(5,4)            # dades normalment distribuits\n",
    "\n",
    "    print (arr2,\"\\n\")\n",
    "\n",
    "    coef_de_corr = np.corrcoef(arr2)        #  matriu de correlació\n",
    "    print(coef_de_corr)\n",
    "\n",
    "\n",
    "                                        \n",
    "    \n",
    "    \n",
    "c_correlacio()\n",
    "\n",
    "np.corrcoef(arr2[0], arr2[1])               # calcula la correlació entre dos vectors."
   ]
  },
  {
   "cell_type": "markdown",
   "id": "bf026f51",
   "metadata": {},
   "source": [
    "### EX 4 b)\n",
    "\n",
    "\n"
   ]
  },
  {
   "attachments": {
    "Imagen1.png": {
     "image/png": "[encoded data removed]"
    }
   },
   "cell_type": "markdown",
   "id": "b673fc25",
   "metadata": {},
   "source": [
    "¿Qué es el coeficient de correlació?\n",
    "El coeficient de correlació és la mesura específica que quantifica la intensidad de la relació lineal entre dues variables,\n",
    "aquest coeficient es simboliza amb la r.\n",
    "\n",
    "\n",
    "Mesura la fuerza i la direcció  d´ una relación lineal entre dues variables. Els valors sempre oscil.lan entre\n",
    "* -1 (forta relació negativa) \n",
    "* +1 (forta relació positiva)\n",
    "\n",
    "Els valors a prop de 0  ó  0 volen dir que hi ha una relació dèbil  o no existeix relació.\n",
    "\n",
    " He trobat aquesta imatge que ho explica molt gràficament. M´ha semblat bé adjuntar-la \n",
    "\n",
    "\"\"\"\n",
    "\n",
    "![Imagen1.png](attachment:Imagen1.png)"
   ]
  },
  {
   "cell_type": "code",
   "execution_count": null,
   "id": "e0751d71",
   "metadata": {},
   "outputs": [],
   "source": []
  }
 ],
 "metadata": {
  "kernelspec": {
   "display_name": "Python 3 (ipykernel)",
   "language": "python",
   "name": "python3"
  },
  "language_info": {
   "codemirror_mode": {
    "name": "ipython",
    "version": 3
   },
   "file_extension": ".py",
   "mimetype": "text/x-python",
   "name": "python",
   "nbconvert_exporter": "python",
   "pygments_lexer": "ipython3",
   "version": "3.9.13"
  }
 },
 "nbformat": 4,
 "nbformat_minor": 5
}
